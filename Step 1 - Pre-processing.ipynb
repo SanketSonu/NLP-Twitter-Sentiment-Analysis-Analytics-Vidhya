{
 "cells": [
  {
   "cell_type": "code",
   "execution_count": 1,
   "id": "2528bc11",
   "metadata": {},
   "outputs": [],
   "source": [
    "import re\n",
    "import pandas as pd\n",
    "import numpy as np"
   ]
  },
  {
   "cell_type": "code",
   "execution_count": 2,
   "id": "4dc0a420",
   "metadata": {},
   "outputs": [
    {
     "data": {
      "text/html": [
       "<div>\n",
       "<style scoped>\n",
       "    .dataframe tbody tr th:only-of-type {\n",
       "        vertical-align: middle;\n",
       "    }\n",
       "\n",
       "    .dataframe tbody tr th {\n",
       "        vertical-align: top;\n",
       "    }\n",
       "\n",
       "    .dataframe thead th {\n",
       "        text-align: right;\n",
       "    }\n",
       "</style>\n",
       "<table border=\"1\" class=\"dataframe\">\n",
       "  <thead>\n",
       "    <tr style=\"text-align: right;\">\n",
       "      <th></th>\n",
       "      <th>id</th>\n",
       "      <th>label</th>\n",
       "      <th>tweet</th>\n",
       "    </tr>\n",
       "  </thead>\n",
       "  <tbody>\n",
       "    <tr>\n",
       "      <th>0</th>\n",
       "      <td>1</td>\n",
       "      <td>0</td>\n",
       "      <td>@user when a father is dysfunctional and is s...</td>\n",
       "    </tr>\n",
       "    <tr>\n",
       "      <th>1</th>\n",
       "      <td>2</td>\n",
       "      <td>0</td>\n",
       "      <td>@user @user thanks for #lyft credit i can't us...</td>\n",
       "    </tr>\n",
       "    <tr>\n",
       "      <th>2</th>\n",
       "      <td>3</td>\n",
       "      <td>0</td>\n",
       "      <td>bihday your majesty</td>\n",
       "    </tr>\n",
       "    <tr>\n",
       "      <th>3</th>\n",
       "      <td>4</td>\n",
       "      <td>0</td>\n",
       "      <td>#model   i love u take with u all the time in ...</td>\n",
       "    </tr>\n",
       "    <tr>\n",
       "      <th>4</th>\n",
       "      <td>5</td>\n",
       "      <td>0</td>\n",
       "      <td>factsguide: society now    #motivation</td>\n",
       "    </tr>\n",
       "  </tbody>\n",
       "</table>\n",
       "</div>"
      ],
      "text/plain": [
       "   id  label                                              tweet\n",
       "0   1      0   @user when a father is dysfunctional and is s...\n",
       "1   2      0  @user @user thanks for #lyft credit i can't us...\n",
       "2   3      0                                bihday your majesty\n",
       "3   4      0  #model   i love u take with u all the time in ...\n",
       "4   5      0             factsguide: society now    #motivation"
      ]
     },
     "execution_count": 2,
     "metadata": {},
     "output_type": "execute_result"
    }
   ],
   "source": [
    "train = pd.read_csv('train_E6oV3lV - Original dataset.csv')\n",
    "test = pd.read_csv('test_tweets_anuFYb8 - Original dataset.csv')\n",
    "train.head()"
   ]
  },
  {
   "cell_type": "code",
   "execution_count": 3,
   "id": "737b1002",
   "metadata": {},
   "outputs": [
    {
     "name": "stdout",
     "output_type": "stream",
     "text": [
      "Shape of Train set: (31962, 3)\n",
      "Shape of Test set: (17197, 2)\n"
     ]
    }
   ],
   "source": [
    "# Checking Shape of Train and Test sets:\n",
    "print(\"Shape of Train set:\", train.shape)\n",
    "print(\"Shape of Test set:\", test.shape)"
   ]
  },
  {
   "cell_type": "code",
   "execution_count": 4,
   "id": "7010ceaa",
   "metadata": {},
   "outputs": [
    {
     "name": "stdout",
     "output_type": "stream",
     "text": [
      "Shape of Train set after removing duplicates: (29530, 4)\n"
     ]
    }
   ],
   "source": [
    "# Removing duplicates of Train set. There are few duplicates in Test set as well,\n",
    "# however, duplicates of Test set can'b be removed because the final test with label has to be uploaded as a submission\n",
    "\n",
    "train.drop_duplicates(subset=['tweet'], keep='last', inplace=True)\n",
    "train.reset_index(inplace=True)\n",
    "print(\"Shape of Train set after removing duplicates:\", train.shape)"
   ]
  },
  {
   "cell_type": "code",
   "execution_count": 5,
   "id": "0380d83b",
   "metadata": {
    "scrolled": true
   },
   "outputs": [],
   "source": [
    "train[train['tweet'].map(lambda x: x.isascii())]\n",
    "test[test['tweet'].map(lambda x: x.isascii())]\n",
    "\n",
    "# Cleaning tweets\n",
    "def clean_tweets(text):\n",
    "    text = re.sub(r'@[A-Za-z0-9_]+','',text)    # Removing @mentions\n",
    "    text = re.sub(r'#','',text)                 # Removing #tag symbol\n",
    "    text = re.sub(r'RT[\\s]+',' ',text)          # Remvoing RT\n",
    "    text = re.sub(r'\\n','',text) \n",
    "    text = re.sub(r',','',text) \n",
    "    text = re.sub(r'.[.]+','',text) \n",
    "    text = re.sub(r'\\w+:\\/\\/\\S+','',text) \n",
    "    text = re.sub(r'https?:\\/\\/\\S+','',text)    # Removing hyperlinks\n",
    "    text = re.sub(r'/',' ',text)\n",
    "    text = re.sub(r'-',' ',text)\n",
    "    text = re.sub(r'_',' ',text)\n",
    "    text = re.sub(r'!','',text)\n",
    "    text = re.sub(r':',' ',text)\n",
    "    text = re.sub(r'$','',text)\n",
    "    text = re.sub(r'%','',text)\n",
    "    text = re.sub(r'^','',text)\n",
    "    text = re.sub(r'&','',text)\n",
    "    text = re.sub(r'=',' ',text)\n",
    "    text = re.sub(r' +',' ',text)               # Removing extra whitespaces\n",
    "\n",
    "    return text\n",
    "\n",
    "# Removing Emojis\n",
    "def clean_emoji(inputString):\n",
    "    return inputString.encode('ascii', 'ignore').decode('ascii')\n",
    "\n",
    "train['tweet'] = train['tweet'].apply(clean_tweets)    # Applying function to clean tweets\n",
    "train['tweet'] = train['tweet'].apply(clean_emoji)     # Applying function to remove emojis\n",
    "train['tweet'] = train.tweet.str.lower()               # Making all texts to lower case\n",
    "train['tweet'] = train['tweet'].str.strip()            # Removing leading and trailing whitespaces\n",
    "\n",
    "test['tweet'] = test['tweet'].apply(clean_tweets)      # Applying function to clean tweets\n",
    "test['tweet'] = test['tweet'].apply(clean_emoji)       # Applying function to remove emojis\n",
    "test['tweet'] = test.tweet.str.lower()                 # Making all texts to lower case\n",
    "test['tweet'] = test['tweet'].str.strip()              # Removing leading and trailing whitespaces\n",
    "#pd.set_option('display.max_rows', None)\n",
    "#pd.set_option('display.max_colwidth', -1)"
   ]
  },
  {
   "cell_type": "code",
   "execution_count": 6,
   "id": "e8ec5794",
   "metadata": {},
   "outputs": [
    {
     "data": {
      "text/html": [
       "<div>\n",
       "<style scoped>\n",
       "    .dataframe tbody tr th:only-of-type {\n",
       "        vertical-align: middle;\n",
       "    }\n",
       "\n",
       "    .dataframe tbody tr th {\n",
       "        vertical-align: top;\n",
       "    }\n",
       "\n",
       "    .dataframe thead th {\n",
       "        text-align: right;\n",
       "    }\n",
       "</style>\n",
       "<table border=\"1\" class=\"dataframe\">\n",
       "  <thead>\n",
       "    <tr style=\"text-align: right;\">\n",
       "      <th></th>\n",
       "      <th>index</th>\n",
       "      <th>id</th>\n",
       "      <th>label</th>\n",
       "      <th>tweet</th>\n",
       "    </tr>\n",
       "  </thead>\n",
       "  <tbody>\n",
       "    <tr>\n",
       "      <th>0</th>\n",
       "      <td>0</td>\n",
       "      <td>1</td>\n",
       "      <td>0</td>\n",
       "      <td>when a father is dysfunctional and is so selfi...</td>\n",
       "    </tr>\n",
       "    <tr>\n",
       "      <th>1</th>\n",
       "      <td>1</td>\n",
       "      <td>2</td>\n",
       "      <td>0</td>\n",
       "      <td>thanks for lyft credit i can't use cause they ...</td>\n",
       "    </tr>\n",
       "    <tr>\n",
       "      <th>2</th>\n",
       "      <td>2</td>\n",
       "      <td>3</td>\n",
       "      <td>0</td>\n",
       "      <td>bihday your majesty</td>\n",
       "    </tr>\n",
       "    <tr>\n",
       "      <th>3</th>\n",
       "      <td>4</td>\n",
       "      <td>5</td>\n",
       "      <td>0</td>\n",
       "      <td>factsguide society now motivation</td>\n",
       "    </tr>\n",
       "    <tr>\n",
       "      <th>4</th>\n",
       "      <td>5</td>\n",
       "      <td>6</td>\n",
       "      <td>0</td>\n",
       "      <td>[2 2] huge fan fare and big talking before the...</td>\n",
       "    </tr>\n",
       "  </tbody>\n",
       "</table>\n",
       "</div>"
      ],
      "text/plain": [
       "   index  id  label                                              tweet\n",
       "0      0   1      0  when a father is dysfunctional and is so selfi...\n",
       "1      1   2      0  thanks for lyft credit i can't use cause they ...\n",
       "2      2   3      0                                bihday your majesty\n",
       "3      4   5      0                  factsguide society now motivation\n",
       "4      5   6      0  [2 2] huge fan fare and big talking before the..."
      ]
     },
     "execution_count": 6,
     "metadata": {},
     "output_type": "execute_result"
    }
   ],
   "source": [
    "train.head()"
   ]
  },
  {
   "cell_type": "code",
   "execution_count": 7,
   "id": "ce1e4de0",
   "metadata": {},
   "outputs": [
    {
     "data": {
      "text/html": [
       "<div>\n",
       "<style scoped>\n",
       "    .dataframe tbody tr th:only-of-type {\n",
       "        vertical-align: middle;\n",
       "    }\n",
       "\n",
       "    .dataframe tbody tr th {\n",
       "        vertical-align: top;\n",
       "    }\n",
       "\n",
       "    .dataframe thead th {\n",
       "        text-align: right;\n",
       "    }\n",
       "</style>\n",
       "<table border=\"1\" class=\"dataframe\">\n",
       "  <thead>\n",
       "    <tr style=\"text-align: right;\">\n",
       "      <th></th>\n",
       "      <th>id</th>\n",
       "      <th>tweet</th>\n",
       "    </tr>\n",
       "  </thead>\n",
       "  <tbody>\n",
       "    <tr>\n",
       "      <th>0</th>\n",
       "      <td>31963</td>\n",
       "      <td>studiolife aislife requires passion dedication...</td>\n",
       "    </tr>\n",
       "    <tr>\n",
       "      <th>1</th>\n",
       "      <td>31964</td>\n",
       "      <td>white supremacists want everyone to see the ne...</td>\n",
       "    </tr>\n",
       "    <tr>\n",
       "      <th>2</th>\n",
       "      <td>31965</td>\n",
       "      <td>safe ways to heal your acne altwaystoheal heal...</td>\n",
       "    </tr>\n",
       "    <tr>\n",
       "      <th>3</th>\n",
       "      <td>31966</td>\n",
       "      <td>is the hp and the cursed child book up for res...</td>\n",
       "    </tr>\n",
       "    <tr>\n",
       "      <th>4</th>\n",
       "      <td>31967</td>\n",
       "      <td>3rd bihday to my amazing hilarious nephew eli ...</td>\n",
       "    </tr>\n",
       "  </tbody>\n",
       "</table>\n",
       "</div>"
      ],
      "text/plain": [
       "      id                                              tweet\n",
       "0  31963  studiolife aislife requires passion dedication...\n",
       "1  31964  white supremacists want everyone to see the ne...\n",
       "2  31965  safe ways to heal your acne altwaystoheal heal...\n",
       "3  31966  is the hp and the cursed child book up for res...\n",
       "4  31967  3rd bihday to my amazing hilarious nephew eli ..."
      ]
     },
     "execution_count": 7,
     "metadata": {},
     "output_type": "execute_result"
    }
   ],
   "source": [
    "test.head()"
   ]
  },
  {
   "cell_type": "code",
   "execution_count": 8,
   "id": "f63c52d0",
   "metadata": {},
   "outputs": [],
   "source": [
    "# Creating CSV files with cleaned data of train and test. That will be used further:\n",
    "train.to_csv('train_cleaned.csv', index=False)\n",
    "test.to_csv('test_cleaned.csv', index=False)"
   ]
  },
  {
   "cell_type": "code",
   "execution_count": null,
   "id": "512e4ce2",
   "metadata": {},
   "outputs": [],
   "source": []
  }
 ],
 "metadata": {
  "kernelspec": {
   "display_name": "Python 3",
   "language": "python",
   "name": "python3"
  },
  "language_info": {
   "codemirror_mode": {
    "name": "ipython",
    "version": 3
   },
   "file_extension": ".py",
   "mimetype": "text/x-python",
   "name": "python",
   "nbconvert_exporter": "python",
   "pygments_lexer": "ipython3",
   "version": "3.8.8"
  }
 },
 "nbformat": 4,
 "nbformat_minor": 5
}
